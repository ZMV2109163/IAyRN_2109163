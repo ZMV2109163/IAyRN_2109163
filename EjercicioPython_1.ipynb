{
  "nbformat": 4,
  "nbformat_minor": 0,
  "metadata": {
    "colab": {
      "provenance": [],
      "authorship_tag": "ABX9TyMIomBQzq/ZGoCEf+rsbHd1",
      "include_colab_link": true
    },
    "kernelspec": {
      "name": "python3",
      "display_name": "Python 3"
    },
    "language_info": {
      "name": "python"
    }
  },
  "cells": [
    {
      "cell_type": "markdown",
      "metadata": {
        "id": "view-in-github",
        "colab_type": "text"
      },
      "source": [
        "<a href=\"https://colab.research.google.com/github/ZMV2109163/IAyRN_2109163/blob/main/EjercicioPython_1.ipynb\" target=\"_parent\"><img src=\"https://colab.research.google.com/assets/colab-badge.svg\" alt=\"Open In Colab\"/></a>"
      ]
    },
    {
      "cell_type": "code",
      "execution_count": null,
      "metadata": {
        "id": "-1byUBzHc6vA"
      },
      "outputs": [],
      "source": []
    },
    {
      "cell_type": "markdown",
      "source": [
        "ACTIVIDAD 2: DISEÑO DE ALGORITMOS EN PYTHON\n",
        "\n",
        "\n",
        "---\n",
        "\n",
        "\n"
      ],
      "metadata": {
        "id": "MBPFCL69pcED"
      }
    },
    {
      "cell_type": "markdown",
      "source": [
        "ZALVADOR MENDOZA VÉLEZ     2109163 IMTC LMV N4"
      ],
      "metadata": {
        "id": "kISLmCrwdbeu"
      }
    },
    {
      "cell_type": "code",
      "source": [
        "#Desarrolla un algoritmo que le pida al usuario por su nombre y que lo salude con su nombre, excepto si se llama “Ana”, “Juan”, y “Pedro”.\n",
        "x= input(\"¿Cual es tu nombre?\")\n",
        "if x==\"Ana\" or x==\"Juan\" or x== \"Pedro\" :\n",
        "  print(\"ERROR\")\n",
        "else:\n",
        "  print(\"Hola \", x, \" ! \")"
      ],
      "metadata": {
        "id": "PpyBNT8DdMhQ",
        "colab": {
          "base_uri": "https://localhost:8080/"
        },
        "outputId": "7c4e34b3-7907-4011-d0e7-692106a40f41"
      },
      "execution_count": 2,
      "outputs": [
        {
          "output_type": "stream",
          "name": "stdout",
          "text": [
            "¿Cual es tu nombre? Chava\n",
            "Hola   Chava  ! \n"
          ]
        }
      ]
    },
    {
      "cell_type": "code",
      "source": [
        "#Desarrolla un algoritmo que por medio de una función\n",
        "#le pida al usuario una lista de N elementos y como resultado\n",
        "#invierta el sentido de la lista\n",
        "n=int(input(\"Elementos de la lista : \"))\n",
        "LISTA=[]\n",
        "i=int(0)\n",
        "for i in range(n):\n",
        "  elemento=input(\" Elemento :\")\n",
        "  LISTA.append(elemento)\n",
        "  i+=1\n",
        "print(\"------TU LISTA ESCRITA AL REVES ES:----- \")\n",
        "x=n-1\n",
        "while x != -1:\n",
        "  print(LISTA[x],\",\",end= \" \")\n",
        "  x=x-1\n",
        "\n",
        "\n",
        "\n",
        "\n",
        "\n",
        "\n",
        "\n",
        "\n"
      ],
      "metadata": {
        "id": "pSgQbk_SeXlm",
        "colab": {
          "base_uri": "https://localhost:8080/"
        },
        "outputId": "4af09741-8337-4e2e-931b-256a3e369056"
      },
      "execution_count": 6,
      "outputs": [
        {
          "output_type": "stream",
          "name": "stdout",
          "text": [
            "Elementos de la lista : 4\n",
            " Elemento :Gato\n",
            " Elemento :234\n",
            " Elemento :---\n",
            " Elemento :HOLA\n",
            "------TU LISTA ESCRITA AL REVES ES:----- \n",
            "HOLA , --- , 234 , Gato , "
          ]
        }
      ]
    },
    {
      "cell_type": "code",
      "source": [
        "#Desarrolla un algoritmo que le pregunte al usuario\n",
        "#cuántos números de la serie de Fibonacci quiere generar y que al final los imprima.\n",
        "n=int(input(\"Cuantos numeros de la serie de fibonacci quieres?\"))\n",
        "a, b = 0, 1\n",
        "i=0\n",
        "for i in range(n):\n",
        "  print(a,end=\" \")\n",
        "  a, b = b, a + b\n",
        "\n",
        "\n",
        "\n",
        "\n",
        "\n",
        "\n",
        "\n"
      ],
      "metadata": {
        "id": "5R8Ya1U5pvtv",
        "colab": {
          "base_uri": "https://localhost:8080/"
        },
        "outputId": "39bdace2-efe5-4ac6-fd37-b0c506f5e23d"
      },
      "execution_count": 7,
      "outputs": [
        {
          "output_type": "stream",
          "name": "stdout",
          "text": [
            "Cuantos numeros de la serie de fibonacci quieres?10\n",
            "0 1 1 2 3 5 8 13 21 34 "
          ]
        }
      ]
    },
    {
      "cell_type": "code",
      "source": [
        "#Juego de adivinar el número: Crea un programa que genere un número aleatorio entre 1 y 100, y luego le pida al usuario que adivine el número.\n",
        "# El programa debe proporcionar pistas al usuario si el número es mayor o menor que el número objetivo,\n",
        "#y seguir solicitando un nuevo intento hasta que el usuario adivine correctamente.\n",
        "import random\n",
        "x=random.randint(1,100)\n",
        "y=0\n",
        "while y != x:\n",
        " y=int(input(\" Qué numero crees que he generado entre el 1 y 100? : \"))\n",
        " if(y==x):\n",
        "  print(\" LE ATINASTEEEE , mi numero era \",x)\n",
        " elif(y<x):\n",
        "  print(\" ----Tu numero es mas PEQUEÑO que el mío ----\")\n",
        " elif(y>x):\n",
        "  print(\"----Tu numero es mas GRANDE que el mío----\")\n",
        "\n"
      ],
      "metadata": {
        "id": "f8JxBWxuzGVD",
        "colab": {
          "base_uri": "https://localhost:8080/"
        },
        "outputId": "ccf8c69f-d272-4b4d-84a3-039678ce067c"
      },
      "execution_count": 10,
      "outputs": [
        {
          "output_type": "stream",
          "name": "stdout",
          "text": [
            " Qué numero crees que he generado entre el 1 y 100? : 100\n",
            "----Tu numero es mas GRANDE que el mío----\n",
            " Qué numero crees que he generado entre el 1 y 100? : 50\n",
            "----Tu numero es mas GRANDE que el mío----\n",
            " Qué numero crees que he generado entre el 1 y 100? : 40\n",
            "----Tu numero es mas GRANDE que el mío----\n",
            " Qué numero crees que he generado entre el 1 y 100? : 30\n",
            " ----Tu numero es mas PEQUEÑO que el mío ----\n",
            " Qué numero crees que he generado entre el 1 y 100? : 35\n",
            "----Tu numero es mas GRANDE que el mío----\n",
            " Qué numero crees que he generado entre el 1 y 100? : 34\n",
            "----Tu numero es mas GRANDE que el mío----\n",
            " Qué numero crees que he generado entre el 1 y 100? : 33\n",
            " LE ATINASTEEEE , mi numero era  33\n"
          ]
        }
      ]
    },
    {
      "cell_type": "code",
      "source": [
        "#Ejercicio de cálculo de números primos en un rango dado: Escribe un programa que solicite al usuario un rango de números\n",
        "#y muestre todos los números primos dentro de ese rango.\n",
        "r=int(input(\"Cuantos numeros quieres ingresar? :\"))\n",
        "numeros=[]\n",
        "numerosp=[]\n",
        "for i in range(r):\n",
        "  numero=int(input(\"Numero:\"))\n",
        "  numeros.append(numero)\n",
        "  if numero % 2 != 0:\n",
        "    numerosp.append(numero)\n",
        "\n",
        "print(\"Los numero que ingresaste fueron:\",numeros)\n",
        "print(\"Los numeros primos fueron: \", numerosp)\n"
      ],
      "metadata": {
        "id": "a42zgiunSmRL",
        "colab": {
          "base_uri": "https://localhost:8080/"
        },
        "outputId": "ea507221-ea72-448a-c925-d5c07daf1bb0"
      },
      "execution_count": 11,
      "outputs": [
        {
          "output_type": "stream",
          "name": "stdout",
          "text": [
            "Cuantos numeros quieres ingresar? :5\n",
            "Numero:2\n",
            "Numero:3\n",
            "Numero:6\n",
            "Numero:7\n",
            "Numero:8\n",
            "Los numero que ingresaste fueron: [2, 3, 6, 7, 8]\n",
            "Los numeros primos fueron:  [3, 7]\n"
          ]
        }
      ]
    },
    {
      "cell_type": "code",
      "source": [
        "#Ejercicio de implementación de una calculadora básica utilizando funciones: Escribe un programa que solicite al usuario dos números\n",
        "#y realice operaciones básicas como suma, resta, multiplicación y división utilizando funciones separadas para cada operación\n",
        "print(\"---CALCULADORA DE OPERACIONES BÁSICAS---\")\n",
        "x=int(input(\"NUMERO 1: \"))\n",
        "y=int(input(\"NUMERO 2: \"))\n",
        "suma=x+y\n",
        "resta=x-y\n",
        "multi=x*y\n",
        "div=x/y\n",
        "c=int(input(\" ¿ Operación a realizar ? (Suma=1, Restar=2, Multiplicar=3, Dividir=4 ; Todas las anteriores=5) : \"))\n",
        "if c<1 or c>5:\n",
        "  print(\" Error, opción invalida \")\n",
        "elif c==1:\n",
        "  print(x,\" + \",y, \"=\", suma)\n",
        "elif c==2:\n",
        "  print(x,\" - \",y, \"=\", resta)\n",
        "elif c==3:\n",
        "  print(x,\" * \",y, \"=\", multi)\n",
        "elif c==4:\n",
        "  print(x,\" / \",y, \"=\", div)\n",
        "else:\n",
        " print(x,\" + \",y, \"=\", suma)\n",
        " print(x,\" - \",y, \"=\", resta)\n",
        " print(x,\" * \",y, \"=\", multi)\n",
        " print(x,\" / \",y, \"=\", div)"
      ],
      "metadata": {
        "id": "XmBE4rY6Xv7i",
        "colab": {
          "base_uri": "https://localhost:8080/"
        },
        "outputId": "e10e2e85-7049-48a4-e431-26300440526d"
      },
      "execution_count": 12,
      "outputs": [
        {
          "output_type": "stream",
          "name": "stdout",
          "text": [
            "---CALCULADORA DE OPERACIONES BÁSICAS---\n",
            "NUMERO 1: 4\n",
            "NUMERO 2: 5\n",
            " ¿ Operación a realizar ? (Suma=1, Restar=2, Multiplicar=3, Dividir=4 ; Todas las anteriores=5) : 5\n",
            "4  +  5 = 9\n",
            "4  -  5 = -1\n",
            "4  *  5 = 20\n",
            "4  /  5 = 0.8\n"
          ]
        }
      ]
    }
  ]
}